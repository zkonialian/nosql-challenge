





from pymongo import MongoClient
import pandas as pd
from pprint import pprint


# Create an instance of MongoClient
mongo = MongoClient(port=27017)


# assign the uk_food database to a variable name
db = mongo['uk_food']


# review the collections in our database
db.list_collection_names()


# assign the collection to a variable
establishments = db['establishments']








# Find the establishments with a hygiene score of 20
query1 = {"scores.Hygiene": 20}

# Use count_documents to display the number of documents in the result
print("Number of documents in the result:", establishments.count_documents(query1))

# Display the first document in the results using pprint
result1 = establishments.find(query1) 

pprint(result1[0])



# Convert the result to a Pandas DataFrame
result1_df = pd.DataFrame(result1)

# Display the number of rows in the DataFrame
print('Number of rows in the dataframe:', result1_df.shape[0])

# Display the first 10 rows of the DataFrame
result1_df.head(10)





# Find the establishments with London as the Local Authority and has a RatingValue greater than or equal to 4.
query2 = {'LocalAuthorityName': {'$regex': "London"}, 'RatingValue':{"$gte":4}}

# Use count_documents to display the number of documents in the result
print("Number of documents in the result:", establishments.count_documents(query2))

# Display the first document in the results using pprint
result2 = establishments.find(query2) 

pprint(result2[0])


# Convert the result to a Pandas DataFrame
result2_df = pd.DataFrame(result2)

# Display the number of rows in the DataFrame
print('Number of rows in the dataframe:', result2_df.shape[0])

# Display the first 10 rows of the DataFrame
result2_df.head(10)






# Search within 0.01 degree on either side of the latitude and longitude.


# Rating value must equal 5
# Sort by hygiene score

degree_search = 0.01
latitude = 51.49014200
longitude = 0.08384000

query = {'geocode.longitude': {'$lte': longitude+degree_search,'$gte': longitude-degree_search}, 
    'geocode.latitude': {'$lte': latitude+degree_search,'$gte': latitude-degree_search},
         'RatingValue':5
        }
sort = [('scores.Hygiene', 1)]
limit = 5

# Print the results
results3 = list(establishments.find(query).sort(sort).limit(limit))
pprint(results3)


# Convert result to Pandas DataFrame
results3_df = pd.DataFrame(results3)
results3_df





# Build the aggregation pipeline
# Write a match query to find only the documents about artifacts that have a width greater than or equal to 40cm.
match_query = {'$match': {'measurements.elementMeasurements.Width': {'$gte': 40}}}

# Write an aggregation query that counts the number of documents, grouped by "country"
group_query = {'$group': {'_id': "$LocalAuthorityName", 'count': { '$sum': 1 }}}

# Create a dictionary that will allow the pipeline to sort by count in descending order
sort_values = {'$sort': { 'count': -1 }}

# Put the pipeline together
pipeline = [match_query, group_query, sort_values]


# Create a pipeline that:
# 1. Matches establishments with a hygiene score of 0
match_query = {'$match': {'scores.Hygiene': 0}}
# 2. Groups the matches by Local Authority
group_query = {'$group': {'_id': "$LocalAuthorityName", 'count': { '$sum': 1 }}}
# 3. Sorts the matches from highest to lowest
sort_values = {'$sort': { 'count': -1 }}
pipeline = [match_query, group_query, sort_values]
results4 = list(establishments.aggregate(pipeline))

# Print the number of documents in the result
print("Number of documents in the result: ", len(results4))

# Print the first 10 results
pprint(results4[:10])


# Convert the result to a Pandas DataFrame
results4_df = pd.DataFrame(results4)

# Display the number of rows in the DataFrame
print('Number of rows in the dataframe:', results4_df.shape[0])

# Display the first 10 rows of the DataFrame
results4_df.head(10)




