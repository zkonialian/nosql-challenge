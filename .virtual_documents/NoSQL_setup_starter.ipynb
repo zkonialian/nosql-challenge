








# Import dependencies
from pymongo import MongoClient
from pprint import pprint


# Create an instance of MongoClient
mongo = MongoClient(port=27017)


# confirm that our new database was created
mongo.list_database_names()


# assign the uk_food database to a variable name
db = mongo['uk_food']


# review the collections in our new database
db.list_collection_names()


# review a document in the establishments collection
db.establishments.find_one()


# assign the collection to a variable
establishments = db['establishments']








# Create a dictionary for the new restaurant data
# this is creating a new restaurant (doc) and assigning it to a variable to make the insertion to the collection easier or effiecient.
penang_flavours = {
    "BusinessName":"Penang Flavours",
    "BusinessType":"Restaurant/Cafe/Canteen",
    "BusinessTypeID":"",
    "AddressLine1":"Penang Flavours",
    "AddressLine2":"146A Plumstead Rd",
    "AddressLine3":"London",
    "AddressLine4":"",
    "PostCode":"SE18 7DY",
    "Phone":"",
    "LocalAuthorityCode":"511",
    "LocalAuthorityName":"Greenwich",
    "LocalAuthorityWebSite":"http://www.royalgreenwich.gov.uk",
    "LocalAuthorityEmailAddress":"health@royalgreenwich.gov.uk",
    "scores":{
        "Hygiene":"",
        "Structural":"",
        "ConfidenceInManagement":""
    },
    "SchemeType":"FHRS",
    "geocode":{
        "longitude":"0.08384000",
        "latitude":"51.49014200"
    },
    "RightToReply":"",
    "Distance":4623.9723280747176,
    "NewRatingPending":True
}


# Insert the new restaurant into the collection
establishments.insert_one(penang_flavours)


# Check that the new restaurant was inserted
query = {"BusinessName":"Penang Flavours"}
establishments.find_one(query)





# Find the BusinessTypeID for "Restaurant/Cafe/Canteen" and return only the BusinessTypeID and BusinessType fields

query2 = {}
fields = {'BusinessType': 1, 'BusinessTypeID': 1}
establishments.find_one(query2, fields)






# Update the new restaurant with the correct BusinessTypeID

query3 = {"BusinessName":"Penang Flavours"}
establishments.update_one(query3, {'$set': {'BusinessTypeID': 1}})


# Confirm that the new restaurant was updated
query4 = {"BusinessName":"Penang Flavours"}
establishments.find_one(query4)





# Find how many documents have LocalAuthorityName as "Dover"
query5 = {'LocalAuthorityName': 'Dover'}
establishments.count_documents(query5)


# Delete all documents where LocalAuthorityName is "Dover"
query6 = {'LocalAuthorityName': 'Dover'}
establishments.delete_many(query6)


# Check if any remaining documents include Dover
query7 = {'LocalAuthorityName': 'Dover'}
establishments.count_documents(query7)


# Check that other documents remain with 'find_one'
establishments.find_one()








# Change the data type from String to Decimal for longitude and latitude
establishments.update_many({}, [ {'$set': { "geocode.longitude" : {'$toDouble': "$geocode.longitude" },
                                                "geocode.latitude" : {'$toDouble': "$geocode.latitude"}
                                              }
                                     } ]
                              )





# Set non 1-5 Rating Values to Null
non_ratings = ["AwaitingInspection", "Awaiting Inspection", "AwaitingPublication", "Pass", "Exempt"]
establishments.update_many({"RatingValue": {"$in": non_ratings}}, [ {'$set':{ "RatingValue" : None}} ])


# Change the data type from String to Integer for RatingValue
establishments.update_many({}, [ {'$set': { "RatingValue" : {'$toInt': "$RatingValue" }
                                              }
                                     } ]
                              )


# Check that the coordinates and rating value are now numbers
establishments.find_one()



